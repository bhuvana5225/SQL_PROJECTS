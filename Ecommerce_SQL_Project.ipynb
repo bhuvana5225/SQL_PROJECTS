{
 "cells": [
  {
   "cell_type": "code",
   "execution_count": 8,
   "metadata": {},
   "outputs": [],
   "source": [
    "import numpy as np\n",
    "import pandas as pd\n",
    "import matplotlib.pyplot as plt\n",
    "import seaborn as sns\n",
    "import mysql.connector\n",
    "\n",
    "db = mysql.connector.connect(\n",
    "    host = \"localhost\" ,   \n",
    "    username = \"root\",\n",
    "    password = \"Bhu@5678\",\n",
    "    database = \"ecommerce\"\n",
    "    \n",
    ")\n",
    "\n",
    "cur = db.cursor()"
   ]
  },
  {
   "cell_type": "markdown",
   "metadata": {},
   "source": [
    "BASIC QUERIES"
   ]
  },
  {
   "cell_type": "markdown",
   "metadata": {},
   "source": [
    "1.List all unique cities where the customers are located"
   ]
  },
  {
   "cell_type": "code",
   "execution_count": 20,
   "metadata": {},
   "outputs": [
    {
     "name": "stdout",
     "output_type": "stream",
     "text": [
      "                  Cities\n",
      "0                 franca\n",
      "1  sao bernardo do campo\n",
      "2              sao paulo\n",
      "3        mogi das cruzes\n",
      "4               campinas\n"
     ]
    }
   ],
   "source": [
    "\n",
    "query = \"\"\" select distinct(customer_city) from customers\"\"\"\n",
    "cur.execute(query)\n",
    "data = cur.fetchall()\n",
    "#print(data)\n",
    "\n",
    "df = pd.DataFrame(data,columns = ['Cities'])\n",
    "print(df.head())"
   ]
  },
  {
   "cell_type": "markdown",
   "metadata": {},
   "source": [
    "2.count the no.of orders placed in the year 2017"
   ]
  },
  {
   "cell_type": "code",
   "execution_count": 21,
   "metadata": {},
   "outputs": [
    {
     "name": "stdout",
     "output_type": "stream",
     "text": [
      "Total Orders in 2017 are: 90202\n"
     ]
    }
   ],
   "source": [
    "\n",
    "query = \"\"\" select count(order_id) from orders where year(order_purchase_timestamp)='2017' \"\"\"\n",
    "cur.execute(query)\n",
    "data = cur.fetchall()\n",
    "print(\"Total Orders in 2017 are:\",data[0][0])"
   ]
  },
  {
   "cell_type": "markdown",
   "metadata": {},
   "source": [
    "3.Find the total sales per category"
   ]
  },
  {
   "cell_type": "code",
   "execution_count": 22,
   "metadata": {},
   "outputs": [
    {
     "data": {
      "text/html": [
       "<div>\n",
       "<style scoped>\n",
       "    .dataframe tbody tr th:only-of-type {\n",
       "        vertical-align: middle;\n",
       "    }\n",
       "\n",
       "    .dataframe tbody tr th {\n",
       "        vertical-align: top;\n",
       "    }\n",
       "\n",
       "    .dataframe thead th {\n",
       "        text-align: right;\n",
       "    }\n",
       "</style>\n",
       "<table border=\"1\" class=\"dataframe\">\n",
       "  <thead>\n",
       "    <tr style=\"text-align: right;\">\n",
       "      <th></th>\n",
       "      <th>Product_category</th>\n",
       "      <th>Total_Sales</th>\n",
       "    </tr>\n",
       "  </thead>\n",
       "  <tbody>\n",
       "    <tr>\n",
       "      <th>0</th>\n",
       "      <td>perfumery</td>\n",
       "      <td>4053909.28</td>\n",
       "    </tr>\n",
       "    <tr>\n",
       "      <th>1</th>\n",
       "      <td>Furniture Decoration</td>\n",
       "      <td>11441411.13</td>\n",
       "    </tr>\n",
       "    <tr>\n",
       "      <th>2</th>\n",
       "      <td>telephony</td>\n",
       "      <td>3895056.41</td>\n",
       "    </tr>\n",
       "    <tr>\n",
       "      <th>3</th>\n",
       "      <td>bed table bath</td>\n",
       "      <td>13700429.37</td>\n",
       "    </tr>\n",
       "    <tr>\n",
       "      <th>4</th>\n",
       "      <td>automotive</td>\n",
       "      <td>6818354.65</td>\n",
       "    </tr>\n",
       "    <tr>\n",
       "      <th>...</th>\n",
       "      <td>...</td>\n",
       "      <td>...</td>\n",
       "    </tr>\n",
       "    <tr>\n",
       "      <th>69</th>\n",
       "      <td>cds music dvds</td>\n",
       "      <td>9595.44</td>\n",
       "    </tr>\n",
       "    <tr>\n",
       "      <th>70</th>\n",
       "      <td>La Cuisine</td>\n",
       "      <td>23308.24</td>\n",
       "    </tr>\n",
       "    <tr>\n",
       "      <th>71</th>\n",
       "      <td>Fashion Children's Clothing</td>\n",
       "      <td>6285.36</td>\n",
       "    </tr>\n",
       "    <tr>\n",
       "      <th>72</th>\n",
       "      <td>PC Gamer</td>\n",
       "      <td>17395.44</td>\n",
       "    </tr>\n",
       "    <tr>\n",
       "      <th>73</th>\n",
       "      <td>insurance and services</td>\n",
       "      <td>2596.08</td>\n",
       "    </tr>\n",
       "  </tbody>\n",
       "</table>\n",
       "<p>74 rows × 2 columns</p>\n",
       "</div>"
      ],
      "text/plain": [
       "               Product_category  Total_Sales\n",
       "0                     perfumery   4053909.28\n",
       "1          Furniture Decoration  11441411.13\n",
       "2                     telephony   3895056.41\n",
       "3                bed table bath  13700429.37\n",
       "4                    automotive   6818354.65\n",
       "..                          ...          ...\n",
       "69               cds music dvds      9595.44\n",
       "70                   La Cuisine     23308.24\n",
       "71  Fashion Children's Clothing      6285.36\n",
       "72                     PC Gamer     17395.44\n",
       "73       insurance and services      2596.08\n",
       "\n",
       "[74 rows x 2 columns]"
      ]
     },
     "execution_count": 22,
     "metadata": {},
     "output_type": "execute_result"
    }
   ],
   "source": [
    "\n",
    "query = \"\"\" select pr.product_category,round(sum(payment_value),2) sales\n",
    "            from products  pr\n",
    "            join order_items oi on pr.product_id = oi.product_id\n",
    "            join payments p on p.order_id = oi.order_id \n",
    "            group by pr.product_category \"\"\"\n",
    "cur.execute(query)\n",
    "data = cur.fetchall()\n",
    "#data\n",
    "\n",
    "df = pd.DataFrame(data,columns = ['Product_category','Total_Sales'])\n",
    "df"
   ]
  },
  {
   "cell_type": "markdown",
   "metadata": {},
   "source": [
    "4.Calculate the percentage of orders that were paid in installments."
   ]
  },
  {
   "cell_type": "code",
   "execution_count": 23,
   "metadata": {},
   "outputs": [
    {
     "data": {
      "text/plain": [
       "[(Decimal('99.9981'),)]"
      ]
     },
     "execution_count": 23,
     "metadata": {},
     "output_type": "execute_result"
    }
   ],
   "source": [
    "query = \"\"\" select (sum(case when payment_installments >=1 then 1 else 0 end) * 100) / count(order_id) Percentage\n",
    "            from payments\"\"\"\n",
    "cur.execute(query)\n",
    "data = cur.fetchall()\n",
    "data"
   ]
  },
  {
   "cell_type": "markdown",
   "metadata": {},
   "source": [
    "5.count the no.of customers from each state"
   ]
  },
  {
   "cell_type": "code",
   "execution_count": 24,
   "metadata": {},
   "outputs": [
    {
     "data": {
      "text/plain": [
       "<Axes: xlabel='State', ylabel='Total_Customers'>"
      ]
     },
     "execution_count": 24,
     "metadata": {},
     "output_type": "execute_result"
    },
    {
     "data": {
      "image/png": "[encoded data removed]",
      "text/plain": [
       "<Figure size 640x480 with 1 Axes>"
      ]
     },
     "metadata": {},
     "output_type": "display_data"
    }
   ],
   "source": [
    "\n",
    "query = \"\"\" select customer_state, count(customer_id) Total_customers from customers group by customer_state \"\"\"\n",
    "cur.execute(query)\n",
    "data = cur.fetchall()\n",
    "#data\n",
    "df = pd.DataFrame(data, columns = ['State','Total_Customers'])\n",
    "#print(df)\n",
    "df = df.sort_values(by = 'Total_Customers',ascending=False)\n",
    "sns.barplot(df,x = 'State', y = 'Total_Customers')\n"
   ]
  },
  {
   "cell_type": "markdown",
   "metadata": {},
   "source": [
    "INTERMEDIATE QUERIES"
   ]
  },
  {
   "cell_type": "markdown",
   "metadata": {},
   "source": [
    "1. Calculate the number of orders per month in 2018"
   ]
  },
  {
   "cell_type": "code",
   "execution_count": 26,
   "metadata": {},
   "outputs": [
    {
     "data": {
      "image/png": "[encoded data removed]",
      "text/plain": [
       "<Figure size 640x480 with 1 Axes>"
      ]
     },
     "metadata": {},
     "output_type": "display_data"
    }
   ],
   "source": [
    "\n",
    "query = \"\"\" select monthname(order_purchase_timestamp) Month , count(order_id) Number_of_Orders\n",
    "            from orders where year(order_purchase_timestamp) = 2018 group by Month \"\"\"\n",
    "cur.execute(query)\n",
    "data = cur.fetchall()\n",
    "#data\n",
    "\n",
    "df = pd.DataFrame(data, columns = ['Month','order_count'])\n",
    "o = [\"January\",\"February\",\"March\",\"April\",\"May\",\"June\",\"July\",\"August\",\"Septmeber\",\"October\",\"November\",\"December\"]\n",
    "res = sns.barplot(df, x = \"Month\", y = \"order_count\", order = o)\n",
    "\n",
    "plt.xticks(rotation = 90)\n",
    "res.bar_label(res.containers[0]) # to show the value of the bar\n",
    "plt.title(\"Number Of Orders Per Month in 2018\")\n",
    "plt.show()\n"
   ]
  },
  {
   "cell_type": "markdown",
   "metadata": {},
   "source": [
    "2.Find the average number of products per order grouped by customer city"
   ]
  },
  {
   "cell_type": "code",
   "execution_count": 34,
   "metadata": {},
   "outputs": [
    {
     "name": "stdout",
     "output_type": "stream",
     "text": [
      "             City Avg no.of Products\n",
      "0  padre carvalho            14.0000\n",
      "1     celso ramos            13.0000\n",
      "2           datas            12.0000\n",
      "3   candido godoi            12.0000\n",
      "4  matias olimpio            10.0000\n"
     ]
    }
   ],
   "source": [
    "\n",
    "query = \"\"\" with count_per_order as\n",
    "                ( select order_id, count(product_id) product_count\n",
    "                from order_items \n",
    "                group by order_id)\n",
    "                select customer_city, avg(co.product_count) avg_products_per_order\n",
    "                from  customers c \n",
    "                join orders o on o.customer_id = c.customer_id\n",
    "                join count_per_order co on co.order_id = o.order_id\n",
    "                group by customer_city order by avg_products_per_order desc \"\"\"\n",
    "cur.execute(query)\n",
    "data = cur.fetchall()\n",
    "data\n",
    "df = pd.DataFrame(data,columns = ['City','Avg no.of Products'])\n",
    "print(df.head())"
   ]
  },
  {
   "cell_type": "markdown",
   "metadata": {},
   "source": [
    "3.Calculate the percentage of toatl revenue contributed by each product category"
   ]
  },
  {
   "cell_type": "code",
   "execution_count": 28,
   "metadata": {},
   "outputs": [
    {
     "data": {
      "text/html": [
       "<div>\n",
       "<style scoped>\n",
       "    .dataframe tbody tr th:only-of-type {\n",
       "        vertical-align: middle;\n",
       "    }\n",
       "\n",
       "    .dataframe tbody tr th {\n",
       "        vertical-align: top;\n",
       "    }\n",
       "\n",
       "    .dataframe thead th {\n",
       "        text-align: right;\n",
       "    }\n",
       "</style>\n",
       "<table border=\"1\" class=\"dataframe\">\n",
       "  <thead>\n",
       "    <tr style=\"text-align: right;\">\n",
       "      <th></th>\n",
       "      <th>Product_category</th>\n",
       "      <th>Sales_percentage</th>\n",
       "    </tr>\n",
       "  </thead>\n",
       "  <tbody>\n",
       "    <tr>\n",
       "      <th>0</th>\n",
       "      <td>bed table bath</td>\n",
       "      <td>42.79</td>\n",
       "    </tr>\n",
       "    <tr>\n",
       "      <th>1</th>\n",
       "      <td>HEALTH BEAUTY</td>\n",
       "      <td>41.41</td>\n",
       "    </tr>\n",
       "    <tr>\n",
       "      <th>2</th>\n",
       "      <td>computer accessories</td>\n",
       "      <td>39.61</td>\n",
       "    </tr>\n",
       "    <tr>\n",
       "      <th>3</th>\n",
       "      <td>Furniture Decoration</td>\n",
       "      <td>35.73</td>\n",
       "    </tr>\n",
       "    <tr>\n",
       "      <th>4</th>\n",
       "      <td>Watches present</td>\n",
       "      <td>35.71</td>\n",
       "    </tr>\n",
       "    <tr>\n",
       "      <th>...</th>\n",
       "      <td>...</td>\n",
       "      <td>...</td>\n",
       "    </tr>\n",
       "    <tr>\n",
       "      <th>69</th>\n",
       "      <td>PC Gamer</td>\n",
       "      <td>0.05</td>\n",
       "    </tr>\n",
       "    <tr>\n",
       "      <th>70</th>\n",
       "      <td>House Comfort 2</td>\n",
       "      <td>0.04</td>\n",
       "    </tr>\n",
       "    <tr>\n",
       "      <th>71</th>\n",
       "      <td>cds music dvds</td>\n",
       "      <td>0.03</td>\n",
       "    </tr>\n",
       "    <tr>\n",
       "      <th>72</th>\n",
       "      <td>Fashion Children's Clothing</td>\n",
       "      <td>0.02</td>\n",
       "    </tr>\n",
       "    <tr>\n",
       "      <th>73</th>\n",
       "      <td>insurance and services</td>\n",
       "      <td>0.01</td>\n",
       "    </tr>\n",
       "  </tbody>\n",
       "</table>\n",
       "<p>74 rows × 2 columns</p>\n",
       "</div>"
      ],
      "text/plain": [
       "               Product_category  Sales_percentage\n",
       "0                bed table bath             42.79\n",
       "1                 HEALTH BEAUTY             41.41\n",
       "2          computer accessories             39.61\n",
       "3          Furniture Decoration             35.73\n",
       "4               Watches present             35.71\n",
       "..                          ...               ...\n",
       "69                     PC Gamer              0.05\n",
       "70              House Comfort 2              0.04\n",
       "71               cds music dvds              0.03\n",
       "72  Fashion Children's Clothing              0.02\n",
       "73       insurance and services              0.01\n",
       "\n",
       "[74 rows x 2 columns]"
      ]
     },
     "execution_count": 28,
     "metadata": {},
     "output_type": "execute_result"
    }
   ],
   "source": [
    "\n",
    "query = \"\"\" select pr.product_category ,\n",
    "            round((sum(p.payment_value)/(select sum(payment_value) from payments))*100,2)sales_percentage\n",
    "            from products  pr\n",
    "            join order_items oi on pr.product_id = oi.product_id\n",
    "            join payments p on p.order_id = oi.order_id \n",
    "            group by pr.product_category order by sales_percentage desc  \"\"\"\n",
    "cur.execute(query)\n",
    "data = cur.fetchall()\n",
    "#data\n",
    "\n",
    "df = pd.DataFrame(data, columns = ['Product_category','Sales_percentage'])\n",
    "df"
   ]
  },
  {
   "cell_type": "markdown",
   "metadata": {},
   "source": [
    "4.Identify the correlation between the product price and the no.of times the product has been purchased"
   ]
  },
  {
   "cell_type": "code",
   "execution_count": null,
   "metadata": {},
   "outputs": [
    {
     "name": "stdout",
     "output_type": "stream",
     "text": [
      "                            Product  Order_Count   Price\n",
      "0                     HEALTH BEAUTY        38680  130.16\n",
      "1                     sport leisure        34564  114.34\n",
      "2                        Cool Stuff        15184  167.36\n",
      "3              computer accessories        31308  116.51\n",
      "4                   Watches present        23964  201.14\n",
      "..                              ...          ...     ...\n",
      "69                          flowers          132   33.64\n",
      "70  Kitchen portable and food coach           60  264.57\n",
      "71       CITTE AND UPHACK FURNITURE          152  114.95\n",
      "72                  House Comfort 2          120   25.34\n",
      "73                   cds music dvds           56   52.14\n",
      "\n",
      "[74 rows x 3 columns]\n",
      "The correlation between the price and the no.of times the product has been purchased is  -0.10631514167157562\n"
     ]
    }
   ],
   "source": [
    "\n",
    "query = \"\"\" select pr.product_category, count(oi.product_id) Purchase_count , round(avg(oi.price),2) price\n",
    "            from order_items oi \n",
    "            join products pr on pr.product_id = oi.product_id\n",
    "            group by pr.product_category \"\"\"\n",
    "cur.execute(query)\n",
    "data = cur.fetchall()\n",
    "#data\n",
    "df = pd.DataFrame(data,columns = ['Product','Order_Count','Price'])\n",
    "#print(df)\n",
    "\n",
    "#finding correlation coefficient\n",
    "arr1 = np.array(df['Price'])\n",
    "arr2 = np.array(df['Order_Count'])\n",
    "\n",
    "c = np.corrcoef(arr1,arr2)\n",
    "print(\"The correlation between the price and the no.of times the product has been purchased is \",c[0,1])"
   ]
  },
  {
   "cell_type": "markdown",
   "metadata": {},
   "source": [
    "5.Calculate the total revenue generated by each seller and rank them by revenue"
   ]
  },
  {
   "cell_type": "code",
   "execution_count": null,
   "metadata": {},
   "outputs": [
    {
     "name": "stdout",
     "output_type": "stream",
     "text": [
      "                             Seller_Id     Revenue  Seller_Rank\n",
      "0     7c67e1448b00f6e969d365cea6b010ab  2028667.63            1\n",
      "1     1025f0e2d44d7041d6cf58b6550e0bfa  1232888.16            2\n",
      "2     4a3ca9315b744ce9f8e9374361493884  1204981.08            3\n",
      "3     1f50f920176fa81dab994f9023523100  1161013.68            4\n",
      "4     53243585a1d6dc2643021fd1853d8905  1139612.32            5\n",
      "...                                ...         ...          ...\n",
      "3090  ad14615bdd492b01b0d97922e87cb87f       76.84         3076\n",
      "3091  702835e4b785b67a084280efca355756       74.24         3077\n",
      "3092  4965a7002cca77301c82d3f91b82e1a9       65.44         3078\n",
      "3093  77128dec4bec4878c37ab7d6169d6f26       60.88         3079\n",
      "3094  cf6f6bc4df3999b9c6440f124fb2f687       48.88         3080\n",
      "\n",
      "[3095 rows x 3 columns]\n"
     ]
    },
    {
     "data": {
      "text/html": [
       "<div>\n",
       "<style scoped>\n",
       "    .dataframe tbody tr th:only-of-type {\n",
       "        vertical-align: middle;\n",
       "    }\n",
       "\n",
       "    .dataframe tbody tr th {\n",
       "        vertical-align: top;\n",
       "    }\n",
       "\n",
       "    .dataframe thead th {\n",
       "        text-align: right;\n",
       "    }\n",
       "</style>\n",
       "<table border=\"1\" class=\"dataframe\">\n",
       "  <thead>\n",
       "    <tr style=\"text-align: right;\">\n",
       "      <th></th>\n",
       "      <th>Seller_Id</th>\n",
       "      <th>Revenue</th>\n",
       "      <th>Seller_Rank</th>\n",
       "    </tr>\n",
       "  </thead>\n",
       "  <tbody>\n",
       "    <tr>\n",
       "      <th>0</th>\n",
       "      <td>7c67e1448b00f6e969d365cea6b010ab</td>\n",
       "      <td>2028667.63</td>\n",
       "      <td>1</td>\n",
       "    </tr>\n",
       "    <tr>\n",
       "      <th>1</th>\n",
       "      <td>1025f0e2d44d7041d6cf58b6550e0bfa</td>\n",
       "      <td>1232888.16</td>\n",
       "      <td>2</td>\n",
       "    </tr>\n",
       "    <tr>\n",
       "      <th>2</th>\n",
       "      <td>4a3ca9315b744ce9f8e9374361493884</td>\n",
       "      <td>1204981.08</td>\n",
       "      <td>3</td>\n",
       "    </tr>\n",
       "    <tr>\n",
       "      <th>3</th>\n",
       "      <td>1f50f920176fa81dab994f9023523100</td>\n",
       "      <td>1161013.68</td>\n",
       "      <td>4</td>\n",
       "    </tr>\n",
       "    <tr>\n",
       "      <th>4</th>\n",
       "      <td>53243585a1d6dc2643021fd1853d8905</td>\n",
       "      <td>1139612.32</td>\n",
       "      <td>5</td>\n",
       "    </tr>\n",
       "  </tbody>\n",
       "</table>\n",
       "</div>"
      ],
      "text/plain": [
       "                          Seller_Id     Revenue  Seller_Rank\n",
       "0  7c67e1448b00f6e969d365cea6b010ab  2028667.63            1\n",
       "1  1025f0e2d44d7041d6cf58b6550e0bfa  1232888.16            2\n",
       "2  4a3ca9315b744ce9f8e9374361493884  1204981.08            3\n",
       "3  1f50f920176fa81dab994f9023523100  1161013.68            4\n",
       "4  53243585a1d6dc2643021fd1853d8905  1139612.32            5"
      ]
     },
     "execution_count": 37,
     "metadata": {},
     "output_type": "execute_result"
    }
   ],
   "source": [
    "\n",
    "query = \"\"\" with Revenue_Per_Seller as (\n",
    "            select oi.seller_id, round(sum(payment_value),2) total_revenue\n",
    "            from  order_items oi \n",
    "            join payments p on p.order_id = oi.order_id\n",
    "            group by oi.seller_id)\n",
    "            select seller_id, total_revenue,\n",
    "            dense_rank() over (order by total_revenue desc)  as Seller_Rank\n",
    "            from Revenue_Per_Seller\"\"\"\n",
    "cur.execute(query)\n",
    "data = cur.fetchall()\n",
    "data\n",
    "\n",
    "df = pd.DataFrame(data,columns = ['Seller_Id','Revenue','Seller_Rank'])\n",
    "print(df)\n"
   ]
  },
  {
   "cell_type": "markdown",
   "metadata": {},
   "source": [
    "ADVANCED QUERIES"
   ]
  },
  {
   "cell_type": "markdown",
   "metadata": {},
   "source": [
    "1.Calculate the moving average of order values for each customer over their order history"
   ]
  },
  {
   "cell_type": "code",
   "execution_count": 30,
   "metadata": {},
   "outputs": [
    {
     "data": {
      "text/html": [
       "<div>\n",
       "<style scoped>\n",
       "    .dataframe tbody tr th:only-of-type {\n",
       "        vertical-align: middle;\n",
       "    }\n",
       "\n",
       "    .dataframe tbody tr th {\n",
       "        vertical-align: top;\n",
       "    }\n",
       "\n",
       "    .dataframe thead th {\n",
       "        text-align: right;\n",
       "    }\n",
       "</style>\n",
       "<table border=\"1\" class=\"dataframe\">\n",
       "  <thead>\n",
       "    <tr style=\"text-align: right;\">\n",
       "      <th></th>\n",
       "      <th>0</th>\n",
       "      <th>1</th>\n",
       "      <th>2</th>\n",
       "      <th>3</th>\n",
       "    </tr>\n",
       "  </thead>\n",
       "  <tbody>\n",
       "    <tr>\n",
       "      <th>0</th>\n",
       "      <td>00012a2ce6f8dcda20d059ce98491703</td>\n",
       "      <td>2017-11-14 16:08:26</td>\n",
       "      <td>114.74</td>\n",
       "      <td>114.739998</td>\n",
       "    </tr>\n",
       "    <tr>\n",
       "      <th>1</th>\n",
       "      <td>00012a2ce6f8dcda20d059ce98491703</td>\n",
       "      <td>2017-11-14 16:08:26</td>\n",
       "      <td>114.74</td>\n",
       "      <td>114.739998</td>\n",
       "    </tr>\n",
       "    <tr>\n",
       "      <th>2</th>\n",
       "      <td>00012a2ce6f8dcda20d059ce98491703</td>\n",
       "      <td>2017-11-14 16:08:26</td>\n",
       "      <td>114.74</td>\n",
       "      <td>114.739998</td>\n",
       "    </tr>\n",
       "    <tr>\n",
       "      <th>3</th>\n",
       "      <td>00012a2ce6f8dcda20d059ce98491703</td>\n",
       "      <td>2017-11-14 16:08:26</td>\n",
       "      <td>114.74</td>\n",
       "      <td>114.739998</td>\n",
       "    </tr>\n",
       "    <tr>\n",
       "      <th>4</th>\n",
       "      <td>000161a058600d5901f007fab4c27140</td>\n",
       "      <td>2017-07-16 09:40:32</td>\n",
       "      <td>67.41</td>\n",
       "      <td>67.410004</td>\n",
       "    </tr>\n",
       "    <tr>\n",
       "      <th>...</th>\n",
       "      <td>...</td>\n",
       "      <td>...</td>\n",
       "      <td>...</td>\n",
       "      <td>...</td>\n",
       "    </tr>\n",
       "    <tr>\n",
       "      <th>415539</th>\n",
       "      <td>ffffa3172527f765de70084a7e53aae8</td>\n",
       "      <td>2017-09-02 11:53:32</td>\n",
       "      <td>45.50</td>\n",
       "      <td>45.500000</td>\n",
       "    </tr>\n",
       "    <tr>\n",
       "      <th>415540</th>\n",
       "      <td>ffffe8b65bbe3087b653a978c870db99</td>\n",
       "      <td>2017-09-29 14:07:03</td>\n",
       "      <td>18.37</td>\n",
       "      <td>18.370001</td>\n",
       "    </tr>\n",
       "    <tr>\n",
       "      <th>415541</th>\n",
       "      <td>ffffe8b65bbe3087b653a978c870db99</td>\n",
       "      <td>2017-09-29 14:07:03</td>\n",
       "      <td>18.37</td>\n",
       "      <td>18.370001</td>\n",
       "    </tr>\n",
       "    <tr>\n",
       "      <th>415542</th>\n",
       "      <td>ffffe8b65bbe3087b653a978c870db99</td>\n",
       "      <td>2017-09-29 14:07:03</td>\n",
       "      <td>18.37</td>\n",
       "      <td>18.370001</td>\n",
       "    </tr>\n",
       "    <tr>\n",
       "      <th>415543</th>\n",
       "      <td>ffffe8b65bbe3087b653a978c870db99</td>\n",
       "      <td>2017-09-29 14:07:03</td>\n",
       "      <td>18.37</td>\n",
       "      <td>18.370001</td>\n",
       "    </tr>\n",
       "  </tbody>\n",
       "</table>\n",
       "<p>415544 rows × 4 columns</p>\n",
       "</div>"
      ],
      "text/plain": [
       "                                       0                    1       2  \\\n",
       "0       00012a2ce6f8dcda20d059ce98491703  2017-11-14 16:08:26  114.74   \n",
       "1       00012a2ce6f8dcda20d059ce98491703  2017-11-14 16:08:26  114.74   \n",
       "2       00012a2ce6f8dcda20d059ce98491703  2017-11-14 16:08:26  114.74   \n",
       "3       00012a2ce6f8dcda20d059ce98491703  2017-11-14 16:08:26  114.74   \n",
       "4       000161a058600d5901f007fab4c27140  2017-07-16 09:40:32   67.41   \n",
       "...                                  ...                  ...     ...   \n",
       "415539  ffffa3172527f765de70084a7e53aae8  2017-09-02 11:53:32   45.50   \n",
       "415540  ffffe8b65bbe3087b653a978c870db99  2017-09-29 14:07:03   18.37   \n",
       "415541  ffffe8b65bbe3087b653a978c870db99  2017-09-29 14:07:03   18.37   \n",
       "415542  ffffe8b65bbe3087b653a978c870db99  2017-09-29 14:07:03   18.37   \n",
       "415543  ffffe8b65bbe3087b653a978c870db99  2017-09-29 14:07:03   18.37   \n",
       "\n",
       "                 3  \n",
       "0       114.739998  \n",
       "1       114.739998  \n",
       "2       114.739998  \n",
       "3       114.739998  \n",
       "4        67.410004  \n",
       "...            ...  \n",
       "415539   45.500000  \n",
       "415540   18.370001  \n",
       "415541   18.370001  \n",
       "415542   18.370001  \n",
       "415543   18.370001  \n",
       "\n",
       "[415544 rows x 4 columns]"
      ]
     },
     "execution_count": 30,
     "metadata": {},
     "output_type": "execute_result"
    }
   ],
   "source": [
    "\n",
    "query = \"\"\"select customer_id, order_purchase_timestamp, payment,\n",
    "            avg(payment) over(partition by customer_id order by order_purchase_timestamp\n",
    "            rows between 2 preceding and current row) as mov_avg\n",
    "            from\n",
    "            (select orders.customer_id, orders.order_purchase_timestamp, \n",
    "            payments.payment_value as payment\n",
    "            from payments join orders\n",
    "            on payments.order_id = orders.order_id) as a\"\"\"\n",
    "cur.execute(query)\n",
    "data = cur.fetchall()\n",
    "#data\n",
    "df = pd.DataFrame(data)\n",
    "df"
   ]
  },
  {
   "cell_type": "markdown",
   "metadata": {},
   "source": [
    "2.Calculate the cumulative sales per month for each year."
   ]
  },
  {
   "cell_type": "code",
   "execution_count": 33,
   "metadata": {},
   "outputs": [
    {
     "data": {
      "text/html": [
       "<div>\n",
       "<style scoped>\n",
       "    .dataframe tbody tr th:only-of-type {\n",
       "        vertical-align: middle;\n",
       "    }\n",
       "\n",
       "    .dataframe tbody tr th {\n",
       "        vertical-align: top;\n",
       "    }\n",
       "\n",
       "    .dataframe thead th {\n",
       "        text-align: right;\n",
       "    }\n",
       "</style>\n",
       "<table border=\"1\" class=\"dataframe\">\n",
       "  <thead>\n",
       "    <tr style=\"text-align: right;\">\n",
       "      <th></th>\n",
       "      <th>Year</th>\n",
       "      <th>Month</th>\n",
       "      <th>Sales</th>\n",
       "      <th>Cumulative_Sales</th>\n",
       "    </tr>\n",
       "  </thead>\n",
       "  <tbody>\n",
       "    <tr>\n",
       "      <th>0</th>\n",
       "      <td>2016</td>\n",
       "      <td>9</td>\n",
       "      <td>1008.96</td>\n",
       "      <td>1008.96</td>\n",
       "    </tr>\n",
       "    <tr>\n",
       "      <th>1</th>\n",
       "      <td>2016</td>\n",
       "      <td>10</td>\n",
       "      <td>236361.92</td>\n",
       "      <td>237370.88</td>\n",
       "    </tr>\n",
       "    <tr>\n",
       "      <th>2</th>\n",
       "      <td>2016</td>\n",
       "      <td>12</td>\n",
       "      <td>78.48</td>\n",
       "      <td>237449.36</td>\n",
       "    </tr>\n",
       "    <tr>\n",
       "      <th>3</th>\n",
       "      <td>2017</td>\n",
       "      <td>1</td>\n",
       "      <td>553952.16</td>\n",
       "      <td>791401.52</td>\n",
       "    </tr>\n",
       "    <tr>\n",
       "      <th>4</th>\n",
       "      <td>2017</td>\n",
       "      <td>2</td>\n",
       "      <td>1167632.04</td>\n",
       "      <td>1959033.56</td>\n",
       "    </tr>\n",
       "    <tr>\n",
       "      <th>5</th>\n",
       "      <td>2017</td>\n",
       "      <td>3</td>\n",
       "      <td>1799454.40</td>\n",
       "      <td>3758487.96</td>\n",
       "    </tr>\n",
       "    <tr>\n",
       "      <th>6</th>\n",
       "      <td>2017</td>\n",
       "      <td>4</td>\n",
       "      <td>1671152.12</td>\n",
       "      <td>5429640.08</td>\n",
       "    </tr>\n",
       "    <tr>\n",
       "      <th>7</th>\n",
       "      <td>2017</td>\n",
       "      <td>5</td>\n",
       "      <td>2371675.28</td>\n",
       "      <td>7801315.36</td>\n",
       "    </tr>\n",
       "    <tr>\n",
       "      <th>8</th>\n",
       "      <td>2017</td>\n",
       "      <td>6</td>\n",
       "      <td>2045105.52</td>\n",
       "      <td>9846420.88</td>\n",
       "    </tr>\n",
       "    <tr>\n",
       "      <th>9</th>\n",
       "      <td>2017</td>\n",
       "      <td>7</td>\n",
       "      <td>2369531.68</td>\n",
       "      <td>12215952.56</td>\n",
       "    </tr>\n",
       "    <tr>\n",
       "      <th>10</th>\n",
       "      <td>2017</td>\n",
       "      <td>8</td>\n",
       "      <td>2697585.28</td>\n",
       "      <td>14913537.84</td>\n",
       "    </tr>\n",
       "    <tr>\n",
       "      <th>11</th>\n",
       "      <td>2017</td>\n",
       "      <td>9</td>\n",
       "      <td>2911049.80</td>\n",
       "      <td>17824587.64</td>\n",
       "    </tr>\n",
       "    <tr>\n",
       "      <th>12</th>\n",
       "      <td>2017</td>\n",
       "      <td>10</td>\n",
       "      <td>3118711.52</td>\n",
       "      <td>20943299.16</td>\n",
       "    </tr>\n",
       "    <tr>\n",
       "      <th>13</th>\n",
       "      <td>2017</td>\n",
       "      <td>11</td>\n",
       "      <td>4779531.20</td>\n",
       "      <td>25722830.36</td>\n",
       "    </tr>\n",
       "    <tr>\n",
       "      <th>14</th>\n",
       "      <td>2017</td>\n",
       "      <td>12</td>\n",
       "      <td>3513605.92</td>\n",
       "      <td>29236436.28</td>\n",
       "    </tr>\n",
       "    <tr>\n",
       "      <th>15</th>\n",
       "      <td>2018</td>\n",
       "      <td>1</td>\n",
       "      <td>4460016.72</td>\n",
       "      <td>33696453.00</td>\n",
       "    </tr>\n",
       "    <tr>\n",
       "      <th>16</th>\n",
       "      <td>2018</td>\n",
       "      <td>2</td>\n",
       "      <td>3969853.36</td>\n",
       "      <td>37666306.36</td>\n",
       "    </tr>\n",
       "    <tr>\n",
       "      <th>17</th>\n",
       "      <td>2018</td>\n",
       "      <td>3</td>\n",
       "      <td>4638608.48</td>\n",
       "      <td>42304914.84</td>\n",
       "    </tr>\n",
       "    <tr>\n",
       "      <th>18</th>\n",
       "      <td>2018</td>\n",
       "      <td>4</td>\n",
       "      <td>4643141.92</td>\n",
       "      <td>46948056.76</td>\n",
       "    </tr>\n",
       "    <tr>\n",
       "      <th>19</th>\n",
       "      <td>2018</td>\n",
       "      <td>5</td>\n",
       "      <td>4615928.60</td>\n",
       "      <td>51563985.36</td>\n",
       "    </tr>\n",
       "    <tr>\n",
       "      <th>20</th>\n",
       "      <td>2018</td>\n",
       "      <td>6</td>\n",
       "      <td>4095522.00</td>\n",
       "      <td>55659507.36</td>\n",
       "    </tr>\n",
       "    <tr>\n",
       "      <th>21</th>\n",
       "      <td>2018</td>\n",
       "      <td>7</td>\n",
       "      <td>4266163.00</td>\n",
       "      <td>59925670.36</td>\n",
       "    </tr>\n",
       "    <tr>\n",
       "      <th>22</th>\n",
       "      <td>2018</td>\n",
       "      <td>8</td>\n",
       "      <td>4089701.29</td>\n",
       "      <td>64015371.65</td>\n",
       "    </tr>\n",
       "    <tr>\n",
       "      <th>23</th>\n",
       "      <td>2018</td>\n",
       "      <td>9</td>\n",
       "      <td>17758.16</td>\n",
       "      <td>64033129.81</td>\n",
       "    </tr>\n",
       "    <tr>\n",
       "      <th>24</th>\n",
       "      <td>2018</td>\n",
       "      <td>10</td>\n",
       "      <td>2358.68</td>\n",
       "      <td>64035488.49</td>\n",
       "    </tr>\n",
       "  </tbody>\n",
       "</table>\n",
       "</div>"
      ],
      "text/plain": [
       "    Year  Month       Sales  Cumulative_Sales\n",
       "0   2016      9     1008.96           1008.96\n",
       "1   2016     10   236361.92         237370.88\n",
       "2   2016     12       78.48         237449.36\n",
       "3   2017      1   553952.16         791401.52\n",
       "4   2017      2  1167632.04        1959033.56\n",
       "5   2017      3  1799454.40        3758487.96\n",
       "6   2017      4  1671152.12        5429640.08\n",
       "7   2017      5  2371675.28        7801315.36\n",
       "8   2017      6  2045105.52        9846420.88\n",
       "9   2017      7  2369531.68       12215952.56\n",
       "10  2017      8  2697585.28       14913537.84\n",
       "11  2017      9  2911049.80       17824587.64\n",
       "12  2017     10  3118711.52       20943299.16\n",
       "13  2017     11  4779531.20       25722830.36\n",
       "14  2017     12  3513605.92       29236436.28\n",
       "15  2018      1  4460016.72       33696453.00\n",
       "16  2018      2  3969853.36       37666306.36\n",
       "17  2018      3  4638608.48       42304914.84\n",
       "18  2018      4  4643141.92       46948056.76\n",
       "19  2018      5  4615928.60       51563985.36\n",
       "20  2018      6  4095522.00       55659507.36\n",
       "21  2018      7  4266163.00       59925670.36\n",
       "22  2018      8  4089701.29       64015371.65\n",
       "23  2018      9    17758.16       64033129.81\n",
       "24  2018     10     2358.68       64035488.49"
      ]
     },
     "execution_count": 33,
     "metadata": {},
     "output_type": "execute_result"
    }
   ],
   "source": [
    "\n",
    "query = \"\"\" with Sales_Per_Month as\n",
    "            (select year(o.order_purchase_timestamp) Year ,month(o.order_purchase_timestamp) Month,\n",
    "            round(sum(p.payment_value),2) Payment\n",
    "            from orders o\n",
    "            join payments p on p.order_id = o.order_id\n",
    "            group by Year,Month order by Year,Month)\n",
    "            select Year,Month, Payment, sum(Payment) over(order by Year,Month) Cumulative_Payment\n",
    "            from Sales_Per_Month\"\"\"\n",
    "\n",
    "cur.execute(query)\n",
    "data = cur.fetchall()\n",
    "#data\n",
    "df = pd.DataFrame(data,columns = ['Year','Month','Sales','Cumulative_Sales'])\n",
    "df"
   ]
  },
  {
   "cell_type": "markdown",
   "metadata": {},
   "source": [
    "3.Calculate the year-over-year growth rate of total sales."
   ]
  },
  {
   "cell_type": "code",
   "execution_count": 32,
   "metadata": {},
   "outputs": [
    {
     "data": {
      "text/html": [
       "<div>\n",
       "<style scoped>\n",
       "    .dataframe tbody tr th:only-of-type {\n",
       "        vertical-align: middle;\n",
       "    }\n",
       "\n",
       "    .dataframe tbody tr th {\n",
       "        vertical-align: top;\n",
       "    }\n",
       "\n",
       "    .dataframe thead th {\n",
       "        text-align: right;\n",
       "    }\n",
       "</style>\n",
       "<table border=\"1\" class=\"dataframe\">\n",
       "  <thead>\n",
       "    <tr style=\"text-align: right;\">\n",
       "      <th></th>\n",
       "      <th>Years</th>\n",
       "      <th>Sales</th>\n",
       "      <th>Sales_Growth</th>\n",
       "    </tr>\n",
       "  </thead>\n",
       "  <tbody>\n",
       "    <tr>\n",
       "      <th>0</th>\n",
       "      <td>2016</td>\n",
       "      <td>237449.36</td>\n",
       "      <td>NaN</td>\n",
       "    </tr>\n",
       "    <tr>\n",
       "      <th>1</th>\n",
       "      <td>2017</td>\n",
       "      <td>28998986.91</td>\n",
       "      <td>12112.703757</td>\n",
       "    </tr>\n",
       "    <tr>\n",
       "      <th>2</th>\n",
       "      <td>2018</td>\n",
       "      <td>34799052.21</td>\n",
       "      <td>20.000924</td>\n",
       "    </tr>\n",
       "  </tbody>\n",
       "</table>\n",
       "</div>"
      ],
      "text/plain": [
       "   Years        Sales  Sales_Growth\n",
       "0   2016    237449.36           NaN\n",
       "1   2017  28998986.91  12112.703757\n",
       "2   2018  34799052.21     20.000924"
      ]
     },
     "execution_count": 32,
     "metadata": {},
     "output_type": "execute_result"
    }
   ],
   "source": [
    "\n",
    "query = \"\"\" select years,Sales, \n",
    "            ((Sales-lag(Sales,1,0)over(order by Years))/lag(Sales,1,0)over(order by Years))*100  Sales_Growth\n",
    "            from(select year(o.order_purchase_timestamp) Years , round(sum(p.payment_value),2) Sales\n",
    "            from orders o \n",
    "            join payments p on p.order_id = o.order_id\n",
    "            group by Years order by Years) as a\"\"\"\n",
    "\n",
    "cur.execute(query)\n",
    "data = cur.fetchall()\n",
    "#data\n",
    "df = pd.DataFrame(data,columns = ['Years','Sales','Sales_Growth'])\n",
    "df\n"
   ]
  },
  {
   "cell_type": "markdown",
   "metadata": {},
   "source": [
    "4.Calculate the retention rate of customers, defined as the percentage of customers who make another purchase within 6 months of their first purchase."
   ]
  },
  {
   "cell_type": "code",
   "execution_count": 10,
   "metadata": {},
   "outputs": [
    {
     "data": {
      "text/plain": [
       "[(None,)]"
      ]
     },
     "execution_count": 10,
     "metadata": {},
     "output_type": "execute_result"
    }
   ],
   "source": [
    " \n",
    "query = \"\"\" with a as \n",
    "            (select customer_id, min(order_purchase_timestamp) first_order\n",
    "            from orders\n",
    "            group by customer_id order by customer_id),\n",
    "            b as\n",
    "            (select a.customer_id, first_order ,count(distinct orders.order_purchase_timestamp) orders_within_6mon\n",
    "            from a \n",
    "            join orders on orders.customer_id = a.customer_id\n",
    "            and orders.order_purchase_timestamp > first_order\n",
    "            and orders.order_purchase_timestamp < date_add(first_order, interval 6 month)\n",
    "            group by a.customer_id)\n",
    "            select 100*(count(a.customer_id)/count(b.customer_id))\n",
    "            from a left join b on a.customer_id = b.customer_id\"\"\"\n",
    "\n",
    "cur.execute(query)\n",
    "data = cur.fetchall()\n",
    "data\n"
   ]
  },
  {
   "cell_type": "markdown",
   "metadata": {},
   "source": [
    "5.Identify the top 3 customers who spent the most money in each year."
   ]
  },
  {
   "cell_type": "code",
   "execution_count": 31,
   "metadata": {},
   "outputs": [
    {
     "data": {
      "image/png": "[encoded data removed]",
      "text/plain": [
       "<Figure size 640x480 with 1 Axes>"
      ]
     },
     "metadata": {},
     "output_type": "display_data"
    }
   ],
   "source": [
    "query = \"\"\" with ranked_customers as\n",
    "            (select Years,Customer_id,Money_Spent,\n",
    "            rank() over(partition by years order by Money_Spent desc) as Top_Customers \n",
    "            from\n",
    "            (select o.customer_id,year(o.order_purchase_timestamp) Years ,sum(p.payment_value) Money_Spent\n",
    "            from orders o\n",
    "            join payments p on p.order_id = o.order_id\n",
    "            group by o.customer_id,years\n",
    "            order by years, Money_Spent desc) as a\n",
    "            )\n",
    "            select * from ranked_customers\n",
    "            where Top_Customers <=3\"\"\"\n",
    "cur.execute(query)\n",
    "data = cur.fetchall()\n",
    "#data\n",
    "\n",
    "df = pd.DataFrame(data, columns = ['Years','Customer_Id','Money_Spent','Rank'])\n",
    "df\n",
    "sns.barplot(df,x = 'Customer_Id', y = 'Money_Spent', hue = 'Years')\n",
    "plt.xticks(rotation = 90)\n",
    "plt.show()\n"
   ]
  }
 ],
 "metadata": {
  "kernelspec": {
   "display_name": "Python 3",
   "language": "python",
   "name": "python3"
  },
  "language_info": {
   "codemirror_mode": {
    "name": "ipython",
    "version": 3
   },
   "file_extension": ".py",
   "mimetype": "text/x-python",
   "name": "python",
   "nbconvert_exporter": "python",
   "pygments_lexer": "ipython3",
   "version": "3.13.1"
  }
 },
 "nbformat": 4,
 "nbformat_minor": 2
}
